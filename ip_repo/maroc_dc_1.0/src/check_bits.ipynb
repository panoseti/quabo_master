{
 "cells": [
  {
   "cell_type": "code",
   "execution_count": null,
   "metadata": {},
   "outputs": [],
   "source": [
    "def check_1bit(d):\n",
    "    c = 0\n",
    "    for i in range(6):\n",
    "        if(d & (1 << i)):\n",
    "            c = c + 1\n",
    "    return c\n",
    "\n",
    "def check_bits(d):\n",
    "    c = 0\n",
    "    for i in range(3):\n",
    "        t = (d>>(i*2)) & 3 \n",
    "        c = c + t\n",
    "    return c"
   ]
  },
  {
   "cell_type": "code",
   "execution_count": null,
   "metadata": {},
   "outputs": [],
   "source": [
    "check_1bit(62)"
   ]
  },
  {
   "cell_type": "code",
   "execution_count": null,
   "metadata": {},
   "outputs": [],
   "source": [
    "check_bits(26)"
   ]
  },
  {
   "cell_type": "code",
   "execution_count": 13,
   "metadata": {},
   "outputs": [
    {
     "name": "stdout",
     "output_type": "stream",
     "text": [
      "0xfffefee9fee9e996\n",
      "0x1fffefee7fee7e768\n"
     ]
    }
   ],
   "source": [
    "# stage0\n",
    "init = [0,0]\n",
    "for i in range(64):\n",
    "    c = check_1bit(i)\n",
    "    if(c == 1):\n",
    "        init[0] = init[0] + (1 << i)\n",
    "        init[1] = init[1] + (0 << i)\n",
    "    if(c > 1):\n",
    "        init[0] = init[0] + (0 << i)\n",
    "        init[1] = init[1] + (1 << i)\n",
    "    if(c > 2):\n",
    "        init[0] = init[0] + (1 << i)\n",
    "        init[1] = init[1] + (1 << i)\n",
    "print('0x%x'%init[0])\n",
    "print('0x%x'%init[1])"
   ]
  },
  {
   "cell_type": "code",
   "execution_count": 12,
   "metadata": {},
   "outputs": [
    {
     "name": "stdout",
     "output_type": "stream",
     "text": [
      "0xfffffffeffedfeda\n",
      "0x1fffffffeffebfeb4\n"
     ]
    }
   ],
   "source": [
    "# stage1\n",
    "init = [0,0]\n",
    "for i in range(64):\n",
    "    c = check_bits(i)\n",
    "    if(c == 1):\n",
    "        init[0] = init[0] + (1 << i)\n",
    "        init[1] = init[1] + (0 << i)\n",
    "    if(c > 1):\n",
    "        init[0] = init[0] + (0 << i)\n",
    "        init[1] = init[1] + (1 << i)\n",
    "    if(c > 2):\n",
    "        init[0] = init[0] + (1 << i)\n",
    "        init[1] = init[1] + (1 << i)\n",
    "print('0x%x'%init[0])\n",
    "print('0x%x'%init[1])"
   ]
  },
  {
   "attachments": {},
   "cell_type": "markdown",
   "metadata": {},
   "source": [
    "### old value\n",
    "stage0:  \n",
    "0xfffefee9fee9e996\n",
    "0xfffffffefffefee8 \n",
    "stage1:  \n",
    "0xfffffffeffedfeda \n",
    "0xfffffffffffeffec \n",
    "\n",
    "### new value\n",
    "stage0:  \n",
    "0x0fffefee9fee9e996\n",
    "0x1fffefee7fee7e768    \n",
    "stage1:  \n",
    "0x0fffffffeffedfeda\n",
    "0x1fffffffeffebfeb4"
   ]
  },
  {
   "cell_type": "code",
   "execution_count": null,
   "metadata": {},
   "outputs": [],
   "source": []
  }
 ],
 "metadata": {
  "kernelspec": {
   "display_name": "Python 3",
   "language": "python",
   "name": "python3"
  },
  "language_info": {
   "codemirror_mode": {
    "name": "ipython",
    "version": 3
   },
   "file_extension": ".py",
   "mimetype": "text/x-python",
   "name": "python",
   "nbconvert_exporter": "python",
   "pygments_lexer": "ipython3",
   "version": "3.8.2"
  },
  "orig_nbformat": 4,
  "vscode": {
   "interpreter": {
    "hash": "31f2aee4e71d21fbe5cf8b01ff0e069b9275f58929596ceb00d14d90e3e16cd6"
   }
  }
 },
 "nbformat": 4,
 "nbformat_minor": 2
}
